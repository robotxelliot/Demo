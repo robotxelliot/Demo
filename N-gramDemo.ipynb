{
 "cells": [
  {
   "cell_type": "code",
   "execution_count": 2,
   "metadata": {
    "collapsed": true,
    "deletable": true,
    "editable": true
   },
   "outputs": [],
   "source": [
    "import numpy as np\n",
    "import re"
   ]
  },
  {
   "cell_type": "code",
   "execution_count": 3,
   "metadata": {
    "collapsed": true,
    "deletable": true,
    "editable": true
   },
   "outputs": [],
   "source": [
    "import requests\n",
    "target_url = 'http://www.bbc.com/news/world-asia-39300270'\n",
    "text = requests.get(target_url).text"
   ]
  },
  {
   "cell_type": "code",
   "execution_count": 4,
   "metadata": {
    "collapsed": false,
    "deletable": true,
    "editable": true
   },
   "outputs": [],
   "source": [
    "def preprocess(text):\n",
    "    a = re.findall(\"[^\\W_]+\", text)\n",
    "    for x in range(len(a)):\n",
    "        a[x] = a[x].lower()\n",
    "    return a"
   ]
  },
  {
   "cell_type": "code",
   "execution_count": 5,
   "metadata": {
    "collapsed": true,
    "deletable": true,
    "editable": true
   },
   "outputs": [],
   "source": [
    "def calc_ngram_probs(cleaned_text, n=3):\n",
    "    grams = [cleaned_text[i:i + n] for i in range(len(cleaned_text) - n + 1)]\n",
    "    len_grams = len(grams)\n",
    "    \n",
    "    count = {}\n",
    "    \n",
    "    for i in range(len(grams)):\n",
    "        tup = tuple(grams[i])\n",
    "        if tup not in count:\n",
    "            count[tup] = 1\n",
    "        else:\n",
    "            count[tup] += 1\n",
    "    for key, value in count.items():\n",
    "        count[key] = np.log(value / len_grams)\n",
    "    \n",
    "    return count"
   ]
  },
  {
   "cell_type": "code",
   "execution_count": 6,
   "metadata": {
    "collapsed": true,
    "deletable": true,
    "editable": true
   },
   "outputs": [],
   "source": [
    "def generate(ngram_probs, seed):\n",
    "    list_g = []\n",
    "    for x in range(1, n):\n",
    "        for key, value in ngram_probs.items():\n",
    "            if seed[-x:] == list(key[0:x]):\n",
    "                list_g.append((seed[-x:], key, value))\n",
    "    \n",
    "    if not list_g:\n",
    "        return seed\n",
    "    else:\n",
    "        current_max = list_g[0][2]\n",
    "        for x in list_g:\n",
    "            if current_max <= x[2]:\n",
    "                to_r = x\n",
    "                \n",
    "        to_add = to_r[1][len(to_r[0]):]\n",
    "        for x in to_add:\n",
    "            seed.append(x)\n",
    "        return seed"
   ]
  },
  {
   "cell_type": "code",
   "execution_count": 7,
   "metadata": {
    "collapsed": true,
    "deletable": true,
    "editable": true
   },
   "outputs": [],
   "source": [
    "def log_sentence_prob(ngram_probs, sentence):\n",
    "    prob = 1\n",
    "    n_len = len(ngram_probs.popitem()[0])\n",
    "    n_parts_of_s = [sentence[x:x + n_len] for x in range(len(sentence) - n_len + 1)]\n",
    "    for g in n_parts_of_s:\n",
    "        if tuple(g) in ngram_probs:\n",
    "            print(g)\n",
    "            prob = prob * ngram_probs[tuple(g)]\n",
    "    return prob"
   ]
  },
  {
   "cell_type": "code",
   "execution_count": 8,
   "metadata": {
    "collapsed": false,
    "deletable": true,
    "editable": true
   },
   "outputs": [
    {
     "name": "stdout",
     "output_type": "stream",
     "text": [
      "['he', 'said', 'he', 'had']\n",
      "['said', 'he', 'had', u'asked']\n",
      "Sentence: ['he', 'said', 'he', 'had', u'asked']\n",
      "log P(Sentence): inf\n"
     ]
    },
    {
     "name": "stderr",
     "output_type": "stream",
     "text": [
      "/usr/local/lib/python2.7/dist-packages/ipykernel/__main__.py:14: RuntimeWarning: divide by zero encountered in log\n"
     ]
    }
   ],
   "source": [
    "n = 4\n",
    "seed = [\"he\", \"said\", \"he\", \"had\"]\n",
    "\n",
    "cleaned_text = preprocess(text)\n",
    "ngram_probs = calc_ngram_probs(cleaned_text, n)\n",
    "sentence = generate(ngram_probs, seed)\n",
    "log_prob = log_sentence_prob(ngram_probs, sentence )\n",
    "\n",
    "print('Sentence: {}'.format(sentence))\n",
    "print('log P(Sentence): {}'.format(log_prob))"
   ]
  },
  {
   "cell_type": "code",
   "execution_count": null,
   "metadata": {
    "collapsed": true,
    "deletable": true,
    "editable": true
   },
   "outputs": [],
   "source": []
  }
 ],
 "metadata": {
  "kernelspec": {
   "display_name": "Python 2",
   "language": "python",
   "name": "python2"
  },
  "language_info": {
   "codemirror_mode": {
    "name": "ipython",
    "version": 2
   },
   "file_extension": ".py",
   "mimetype": "text/x-python",
   "name": "python",
   "nbconvert_exporter": "python",
   "pygments_lexer": "ipython2",
   "version": "2.7.12"
  }
 },
 "nbformat": 4,
 "nbformat_minor": 0
}
