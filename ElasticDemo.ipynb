{
 "cells": [
  {
   "cell_type": "code",
   "execution_count": 3,
   "metadata": {
    "collapsed": false,
    "deletable": true,
    "editable": true
   },
   "outputs": [],
   "source": [
    "from elasticsearch import Elasticsearch"
   ]
  },
  {
   "cell_type": "code",
   "execution_count": 4,
   "metadata": {
    "collapsed": true,
    "deletable": true,
    "editable": true
   },
   "outputs": [],
   "source": [
    "es = Elasticsearch()"
   ]
  },
  {
   "cell_type": "code",
   "execution_count": 6,
   "metadata": {
    "collapsed": false
   },
   "outputs": [
    {
     "data": {
      "text/plain": [
       "{u'cluster_name': u'elasticsearch',\n",
       " u'name': u'Madison Jeffries',\n",
       " u'tagline': u'You Know, for Search',\n",
       " u'version': {u'build_hash': u'ce9f0c7394dee074091dd1bc4e9469251181fc55',\n",
       "  u'build_snapshot': False,\n",
       "  u'build_timestamp': u'2016-08-29T09:14:17Z',\n",
       "  u'lucene_version': u'5.5.2',\n",
       "  u'number': u'2.4.0'}}"
      ]
     },
     "execution_count": 6,
     "metadata": {},
     "output_type": "execute_result"
    }
   ],
   "source": [
    "es.info()"
   ]
  },
  {
   "cell_type": "code",
   "execution_count": 8,
   "metadata": {
    "collapsed": false
   },
   "outputs": [],
   "source": [
    "DOCS = {\n",
    "    \"1\": {\n",
    "        \"user\": \"Van A\",\n",
    "        \"postDate\": \"2017-3-11\",\n",
    "        \"body\": \"Hello word !.\" ,\n",
    "        \"title\": \"Vccorp\"\n",
    "    },\n",
    "    \"2\": {\n",
    "        \"user\": \"Thi B\",\n",
    "        \"postDate\": \"2017-3-9\",\n",
    "        \"body\": \"Goodbye word\" ,\n",
    "        \"title\": \"Google\"        \n",
    "    },\n",
    "    \"3\": {\n",
    "        \"user\": \"Nguyen C\",\n",
    "        \"postDate\": \"2017-3-10\",\n",
    "        \"body\": \"You know, for search !\",\n",
    "        \"title\": \"Amazon\"        \n",
    "    }}"
   ]
  },
  {
   "cell_type": "markdown",
   "metadata": {},
   "source": [
    "# Create index"
   ]
  },
  {
   "cell_type": "code",
   "execution_count": 9,
   "metadata": {
    "collapsed": true
   },
   "outputs": [],
   "source": [
    "INDEX_NAME = \"blog\"\n",
    "DOC_TYPE = \"post\""
   ]
  },
  {
   "cell_type": "code",
   "execution_count": 10,
   "metadata": {
    "collapsed": true
   },
   "outputs": [],
   "source": [
    "if not es.indices.exists(INDEX_NAME):\n",
    "    es.indices.create(index=INDEX_NAME)"
   ]
  },
  {
   "cell_type": "markdown",
   "metadata": {},
   "source": [
    "# Add documents to index"
   ]
  },
  {
   "cell_type": "code",
   "execution_count": 11,
   "metadata": {
    "collapsed": true
   },
   "outputs": [],
   "source": [
    "for doc_id, content in DOCS.items():\n",
    "    es.index(index=INDEX_NAME, doc_type=DOC_TYPE, id=doc_id, body=content)"
   ]
  },
  {
   "cell_type": "markdown",
   "metadata": {},
   "source": [
    "# Requst documents"
   ]
  },
  {
   "cell_type": "code",
   "execution_count": 12,
   "metadata": {
    "collapsed": true
   },
   "outputs": [],
   "source": [
    "doc = es.get(index=INDEX_NAME, doc_type=DOC_TYPE, id=1)"
   ]
  },
  {
   "cell_type": "code",
   "execution_count": 13,
   "metadata": {
    "collapsed": false
   },
   "outputs": [
    {
     "data": {
      "text/plain": [
       "{u'_id': u'1',\n",
       " u'_index': u'blog',\n",
       " u'_source': {u'body': u'Hello word !.',\n",
       "  u'postDate': u'2017-3-11',\n",
       "  u'title': u'On search',\n",
       "  u'user': u'Van A'},\n",
       " u'_type': u'post',\n",
       " u'_version': 1,\n",
       " u'found': True}"
      ]
     },
     "execution_count": 13,
     "metadata": {},
     "output_type": "execute_result"
    }
   ],
   "source": [
    "doc"
   ]
  },
  {
   "cell_type": "code",
   "execution_count": 14,
   "metadata": {
    "collapsed": true
   },
   "outputs": [],
   "source": [
    "stats = es.indices.stats(index=INDEX_NAME)"
   ]
  },
  {
   "cell_type": "code",
   "execution_count": 15,
   "metadata": {
    "collapsed": false
   },
   "outputs": [
    {
     "data": {
      "text/plain": [
       "{u'_all': {u'primaries': {u'completion': {u'size_in_bytes': 0},\n",
       "   u'docs': {u'count': 3, u'deleted': 0},\n",
       "   u'fielddata': {u'evictions': 0, u'memory_size_in_bytes': 0},\n",
       "   u'flush': {u'total': 0, u'total_time_in_millis': 0},\n",
       "   u'get': {u'current': 0,\n",
       "    u'exists_time_in_millis': 8,\n",
       "    u'exists_total': 1,\n",
       "    u'missing_time_in_millis': 0,\n",
       "    u'missing_total': 0,\n",
       "    u'time_in_millis': 8,\n",
       "    u'total': 1},\n",
       "   u'indexing': {u'delete_current': 0,\n",
       "    u'delete_time_in_millis': 0,\n",
       "    u'delete_total': 0,\n",
       "    u'index_current': 0,\n",
       "    u'index_failed': 0,\n",
       "    u'index_time_in_millis': 30,\n",
       "    u'index_total': 3,\n",
       "    u'is_throttled': False,\n",
       "    u'noop_update_total': 0,\n",
       "    u'throttle_time_in_millis': 0},\n",
       "   u'merges': {u'current': 0,\n",
       "    u'current_docs': 0,\n",
       "    u'current_size_in_bytes': 0,\n",
       "    u'total': 0,\n",
       "    u'total_auto_throttle_in_bytes': 104857600,\n",
       "    u'total_docs': 0,\n",
       "    u'total_size_in_bytes': 0,\n",
       "    u'total_stopped_time_in_millis': 0,\n",
       "    u'total_throttled_time_in_millis': 0,\n",
       "    u'total_time_in_millis': 0},\n",
       "   u'percolate': {u'current': 0,\n",
       "    u'memory_size': u'-1b',\n",
       "    u'memory_size_in_bytes': -1,\n",
       "    u'queries': 0,\n",
       "    u'time_in_millis': 0,\n",
       "    u'total': 0},\n",
       "   u'query_cache': {u'cache_count': 0,\n",
       "    u'cache_size': 0,\n",
       "    u'evictions': 0,\n",
       "    u'hit_count': 0,\n",
       "    u'memory_size_in_bytes': 0,\n",
       "    u'miss_count': 0,\n",
       "    u'total_count': 0},\n",
       "   u'recovery': {u'current_as_source': 0,\n",
       "    u'current_as_target': 0,\n",
       "    u'throttle_time_in_millis': 0},\n",
       "   u'refresh': {u'total': 3, u'total_time_in_millis': 51},\n",
       "   u'request_cache': {u'evictions': 0,\n",
       "    u'hit_count': 0,\n",
       "    u'memory_size_in_bytes': 0,\n",
       "    u'miss_count': 0},\n",
       "   u'search': {u'fetch_current': 0,\n",
       "    u'fetch_time_in_millis': 0,\n",
       "    u'fetch_total': 0,\n",
       "    u'open_contexts': 0,\n",
       "    u'query_current': 0,\n",
       "    u'query_time_in_millis': 0,\n",
       "    u'query_total': 0,\n",
       "    u'scroll_current': 0,\n",
       "    u'scroll_time_in_millis': 0,\n",
       "    u'scroll_total': 0},\n",
       "   u'segments': {u'count': 3,\n",
       "    u'doc_values_memory_in_bytes': 276,\n",
       "    u'fixed_bit_set_memory_in_bytes': 0,\n",
       "    u'index_writer_max_memory_in_bytes': 103887665,\n",
       "    u'index_writer_memory_in_bytes': 0,\n",
       "    u'memory_in_bytes': 8148,\n",
       "    u'norms_memory_in_bytes': 960,\n",
       "    u'stored_fields_memory_in_bytes': 936,\n",
       "    u'term_vectors_memory_in_bytes': 0,\n",
       "    u'terms_memory_in_bytes': 5976,\n",
       "    u'version_map_memory_in_bytes': 0},\n",
       "   u'store': {u'size_in_bytes': 11362, u'throttle_time_in_millis': 0},\n",
       "   u'suggest': {u'current': 0, u'time_in_millis': 0, u'total': 0},\n",
       "   u'translog': {u'operations': 3, u'size_in_bytes': 640},\n",
       "   u'warmer': {u'current': 0, u'total': 16, u'total_time_in_millis': 0}},\n",
       "  u'total': {u'completion': {u'size_in_bytes': 0},\n",
       "   u'docs': {u'count': 3, u'deleted': 0},\n",
       "   u'fielddata': {u'evictions': 0, u'memory_size_in_bytes': 0},\n",
       "   u'flush': {u'total': 0, u'total_time_in_millis': 0},\n",
       "   u'get': {u'current': 0,\n",
       "    u'exists_time_in_millis': 8,\n",
       "    u'exists_total': 1,\n",
       "    u'missing_time_in_millis': 0,\n",
       "    u'missing_total': 0,\n",
       "    u'time_in_millis': 8,\n",
       "    u'total': 1},\n",
       "   u'indexing': {u'delete_current': 0,\n",
       "    u'delete_time_in_millis': 0,\n",
       "    u'delete_total': 0,\n",
       "    u'index_current': 0,\n",
       "    u'index_failed': 0,\n",
       "    u'index_time_in_millis': 30,\n",
       "    u'index_total': 3,\n",
       "    u'is_throttled': False,\n",
       "    u'noop_update_total': 0,\n",
       "    u'throttle_time_in_millis': 0},\n",
       "   u'merges': {u'current': 0,\n",
       "    u'current_docs': 0,\n",
       "    u'current_size_in_bytes': 0,\n",
       "    u'total': 0,\n",
       "    u'total_auto_throttle_in_bytes': 104857600,\n",
       "    u'total_docs': 0,\n",
       "    u'total_size_in_bytes': 0,\n",
       "    u'total_stopped_time_in_millis': 0,\n",
       "    u'total_throttled_time_in_millis': 0,\n",
       "    u'total_time_in_millis': 0},\n",
       "   u'percolate': {u'current': 0,\n",
       "    u'memory_size': u'-1b',\n",
       "    u'memory_size_in_bytes': -1,\n",
       "    u'queries': 0,\n",
       "    u'time_in_millis': 0,\n",
       "    u'total': 0},\n",
       "   u'query_cache': {u'cache_count': 0,\n",
       "    u'cache_size': 0,\n",
       "    u'evictions': 0,\n",
       "    u'hit_count': 0,\n",
       "    u'memory_size_in_bytes': 0,\n",
       "    u'miss_count': 0,\n",
       "    u'total_count': 0},\n",
       "   u'recovery': {u'current_as_source': 0,\n",
       "    u'current_as_target': 0,\n",
       "    u'throttle_time_in_millis': 0},\n",
       "   u'refresh': {u'total': 3, u'total_time_in_millis': 51},\n",
       "   u'request_cache': {u'evictions': 0,\n",
       "    u'hit_count': 0,\n",
       "    u'memory_size_in_bytes': 0,\n",
       "    u'miss_count': 0},\n",
       "   u'search': {u'fetch_current': 0,\n",
       "    u'fetch_time_in_millis': 0,\n",
       "    u'fetch_total': 0,\n",
       "    u'open_contexts': 0,\n",
       "    u'query_current': 0,\n",
       "    u'query_time_in_millis': 0,\n",
       "    u'query_total': 0,\n",
       "    u'scroll_current': 0,\n",
       "    u'scroll_time_in_millis': 0,\n",
       "    u'scroll_total': 0},\n",
       "   u'segments': {u'count': 3,\n",
       "    u'doc_values_memory_in_bytes': 276,\n",
       "    u'fixed_bit_set_memory_in_bytes': 0,\n",
       "    u'index_writer_max_memory_in_bytes': 103887665,\n",
       "    u'index_writer_memory_in_bytes': 0,\n",
       "    u'memory_in_bytes': 8148,\n",
       "    u'norms_memory_in_bytes': 960,\n",
       "    u'stored_fields_memory_in_bytes': 936,\n",
       "    u'term_vectors_memory_in_bytes': 0,\n",
       "    u'terms_memory_in_bytes': 5976,\n",
       "    u'version_map_memory_in_bytes': 0},\n",
       "   u'store': {u'size_in_bytes': 11362, u'throttle_time_in_millis': 0},\n",
       "   u'suggest': {u'current': 0, u'time_in_millis': 0, u'total': 0},\n",
       "   u'translog': {u'operations': 3, u'size_in_bytes': 640},\n",
       "   u'warmer': {u'current': 0, u'total': 16, u'total_time_in_millis': 0}}},\n",
       " u'_shards': {u'failed': 0, u'successful': 5, u'total': 10},\n",
       " u'indices': {u'blog': {u'primaries': {u'completion': {u'size_in_bytes': 0},\n",
       "    u'docs': {u'count': 3, u'deleted': 0},\n",
       "    u'fielddata': {u'evictions': 0, u'memory_size_in_bytes': 0},\n",
       "    u'flush': {u'total': 0, u'total_time_in_millis': 0},\n",
       "    u'get': {u'current': 0,\n",
       "     u'exists_time_in_millis': 8,\n",
       "     u'exists_total': 1,\n",
       "     u'missing_time_in_millis': 0,\n",
       "     u'missing_total': 0,\n",
       "     u'time_in_millis': 8,\n",
       "     u'total': 1},\n",
       "    u'indexing': {u'delete_current': 0,\n",
       "     u'delete_time_in_millis': 0,\n",
       "     u'delete_total': 0,\n",
       "     u'index_current': 0,\n",
       "     u'index_failed': 0,\n",
       "     u'index_time_in_millis': 30,\n",
       "     u'index_total': 3,\n",
       "     u'is_throttled': False,\n",
       "     u'noop_update_total': 0,\n",
       "     u'throttle_time_in_millis': 0},\n",
       "    u'merges': {u'current': 0,\n",
       "     u'current_docs': 0,\n",
       "     u'current_size_in_bytes': 0,\n",
       "     u'total': 0,\n",
       "     u'total_auto_throttle_in_bytes': 104857600,\n",
       "     u'total_docs': 0,\n",
       "     u'total_size_in_bytes': 0,\n",
       "     u'total_stopped_time_in_millis': 0,\n",
       "     u'total_throttled_time_in_millis': 0,\n",
       "     u'total_time_in_millis': 0},\n",
       "    u'percolate': {u'current': 0,\n",
       "     u'memory_size': u'-1b',\n",
       "     u'memory_size_in_bytes': -1,\n",
       "     u'queries': 0,\n",
       "     u'time_in_millis': 0,\n",
       "     u'total': 0},\n",
       "    u'query_cache': {u'cache_count': 0,\n",
       "     u'cache_size': 0,\n",
       "     u'evictions': 0,\n",
       "     u'hit_count': 0,\n",
       "     u'memory_size_in_bytes': 0,\n",
       "     u'miss_count': 0,\n",
       "     u'total_count': 0},\n",
       "    u'recovery': {u'current_as_source': 0,\n",
       "     u'current_as_target': 0,\n",
       "     u'throttle_time_in_millis': 0},\n",
       "    u'refresh': {u'total': 3, u'total_time_in_millis': 51},\n",
       "    u'request_cache': {u'evictions': 0,\n",
       "     u'hit_count': 0,\n",
       "     u'memory_size_in_bytes': 0,\n",
       "     u'miss_count': 0},\n",
       "    u'search': {u'fetch_current': 0,\n",
       "     u'fetch_time_in_millis': 0,\n",
       "     u'fetch_total': 0,\n",
       "     u'open_contexts': 0,\n",
       "     u'query_current': 0,\n",
       "     u'query_time_in_millis': 0,\n",
       "     u'query_total': 0,\n",
       "     u'scroll_current': 0,\n",
       "     u'scroll_time_in_millis': 0,\n",
       "     u'scroll_total': 0},\n",
       "    u'segments': {u'count': 3,\n",
       "     u'doc_values_memory_in_bytes': 276,\n",
       "     u'fixed_bit_set_memory_in_bytes': 0,\n",
       "     u'index_writer_max_memory_in_bytes': 103887665,\n",
       "     u'index_writer_memory_in_bytes': 0,\n",
       "     u'memory_in_bytes': 8148,\n",
       "     u'norms_memory_in_bytes': 960,\n",
       "     u'stored_fields_memory_in_bytes': 936,\n",
       "     u'term_vectors_memory_in_bytes': 0,\n",
       "     u'terms_memory_in_bytes': 5976,\n",
       "     u'version_map_memory_in_bytes': 0},\n",
       "    u'store': {u'size_in_bytes': 11362, u'throttle_time_in_millis': 0},\n",
       "    u'suggest': {u'current': 0, u'time_in_millis': 0, u'total': 0},\n",
       "    u'translog': {u'operations': 3, u'size_in_bytes': 640},\n",
       "    u'warmer': {u'current': 0, u'total': 16, u'total_time_in_millis': 0}},\n",
       "   u'total': {u'completion': {u'size_in_bytes': 0},\n",
       "    u'docs': {u'count': 3, u'deleted': 0},\n",
       "    u'fielddata': {u'evictions': 0, u'memory_size_in_bytes': 0},\n",
       "    u'flush': {u'total': 0, u'total_time_in_millis': 0},\n",
       "    u'get': {u'current': 0,\n",
       "     u'exists_time_in_millis': 8,\n",
       "     u'exists_total': 1,\n",
       "     u'missing_time_in_millis': 0,\n",
       "     u'missing_total': 0,\n",
       "     u'time_in_millis': 8,\n",
       "     u'total': 1},\n",
       "    u'indexing': {u'delete_current': 0,\n",
       "     u'delete_time_in_millis': 0,\n",
       "     u'delete_total': 0,\n",
       "     u'index_current': 0,\n",
       "     u'index_failed': 0,\n",
       "     u'index_time_in_millis': 30,\n",
       "     u'index_total': 3,\n",
       "     u'is_throttled': False,\n",
       "     u'noop_update_total': 0,\n",
       "     u'throttle_time_in_millis': 0},\n",
       "    u'merges': {u'current': 0,\n",
       "     u'current_docs': 0,\n",
       "     u'current_size_in_bytes': 0,\n",
       "     u'total': 0,\n",
       "     u'total_auto_throttle_in_bytes': 104857600,\n",
       "     u'total_docs': 0,\n",
       "     u'total_size_in_bytes': 0,\n",
       "     u'total_stopped_time_in_millis': 0,\n",
       "     u'total_throttled_time_in_millis': 0,\n",
       "     u'total_time_in_millis': 0},\n",
       "    u'percolate': {u'current': 0,\n",
       "     u'memory_size': u'-1b',\n",
       "     u'memory_size_in_bytes': -1,\n",
       "     u'queries': 0,\n",
       "     u'time_in_millis': 0,\n",
       "     u'total': 0},\n",
       "    u'query_cache': {u'cache_count': 0,\n",
       "     u'cache_size': 0,\n",
       "     u'evictions': 0,\n",
       "     u'hit_count': 0,\n",
       "     u'memory_size_in_bytes': 0,\n",
       "     u'miss_count': 0,\n",
       "     u'total_count': 0},\n",
       "    u'recovery': {u'current_as_source': 0,\n",
       "     u'current_as_target': 0,\n",
       "     u'throttle_time_in_millis': 0},\n",
       "    u'refresh': {u'total': 3, u'total_time_in_millis': 51},\n",
       "    u'request_cache': {u'evictions': 0,\n",
       "     u'hit_count': 0,\n",
       "     u'memory_size_in_bytes': 0,\n",
       "     u'miss_count': 0},\n",
       "    u'search': {u'fetch_current': 0,\n",
       "     u'fetch_time_in_millis': 0,\n",
       "     u'fetch_total': 0,\n",
       "     u'open_contexts': 0,\n",
       "     u'query_current': 0,\n",
       "     u'query_time_in_millis': 0,\n",
       "     u'query_total': 0,\n",
       "     u'scroll_current': 0,\n",
       "     u'scroll_time_in_millis': 0,\n",
       "     u'scroll_total': 0},\n",
       "    u'segments': {u'count': 3,\n",
       "     u'doc_values_memory_in_bytes': 276,\n",
       "     u'fixed_bit_set_memory_in_bytes': 0,\n",
       "     u'index_writer_max_memory_in_bytes': 103887665,\n",
       "     u'index_writer_memory_in_bytes': 0,\n",
       "     u'memory_in_bytes': 8148,\n",
       "     u'norms_memory_in_bytes': 960,\n",
       "     u'stored_fields_memory_in_bytes': 936,\n",
       "     u'term_vectors_memory_in_bytes': 0,\n",
       "     u'terms_memory_in_bytes': 5976,\n",
       "     u'version_map_memory_in_bytes': 0},\n",
       "    u'store': {u'size_in_bytes': 11362, u'throttle_time_in_millis': 0},\n",
       "    u'suggest': {u'current': 0, u'time_in_millis': 0, u'total': 0},\n",
       "    u'translog': {u'operations': 3, u'size_in_bytes': 640},\n",
       "    u'warmer': {u'current': 0, u'total': 16, u'total_time_in_millis': 0}}}}}"
      ]
     },
     "execution_count": 15,
     "metadata": {},
     "output_type": "execute_result"
    }
   ],
   "source": [
    "stats"
   ]
  },
  {
   "cell_type": "markdown",
   "metadata": {},
   "source": [
    "# Search"
   ]
  },
  {
   "cell_type": "code",
   "execution_count": 16,
   "metadata": {
    "collapsed": true
   },
   "outputs": [],
   "source": [
    "query = \"hello\"\n",
    "hits = es.search(index = INDEX_NAME, q = query, _source = False, size = 10)['hits']"
   ]
  },
  {
   "cell_type": "code",
   "execution_count": 19,
   "metadata": {
    "collapsed": false
   },
   "outputs": [
    {
     "name": "stdout",
     "output_type": "stream",
     "text": [
      "(u'1', 0.095891505)\n"
     ]
    }
   ],
   "source": [
    "for hit in hits['hits']:\n",
    "    print(hit['_id'], hit['_score'])"
   ]
  },
  {
   "cell_type": "code",
   "execution_count": null,
   "metadata": {
    "collapsed": true
   },
   "outputs": [],
   "source": []
  }
 ],
 "metadata": {
  "kernelspec": {
   "display_name": "Python 2",
   "language": "python",
   "name": "python2"
  },
  "language_info": {
   "codemirror_mode": {
    "name": "ipython",
    "version": 2
   },
   "file_extension": ".py",
   "mimetype": "text/x-python",
   "name": "python",
   "nbconvert_exporter": "python",
   "pygments_lexer": "ipython2",
   "version": "2.7.12"
  }
 },
 "nbformat": 4,
 "nbformat_minor": 2
}
